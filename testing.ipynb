{
 "cells": [
  {
   "cell_type": "markdown",
   "metadata": {},
   "source": [
    "#  testing"
   ]
  },
  {
   "cell_type": "code",
   "execution_count": 5,
   "metadata": {},
   "outputs": [
    {
     "name": "stdout",
     "output_type": "stream",
     "text": [
      "Автобус 15\n",
      "Автозаправочная станция (АЗС) 23\n",
      "Автозапчасти 22\n",
      "Автомастерская, автосервис, станция технического обслуживания (СТО) 8\n",
      "Автомат 15\n",
      "Автомобильная мойка (автомойка) 11\n",
      "Автошкола 13\n",
      "Адвокат, адвокатская контора 12\n",
      "Административно-хозяйственное учреждение 17\n",
      "Администрация населённого пункта 21\n",
      "Адрес 36\n",
      "Аквапарк 14\n",
      "Аквариум 29\n",
      "Амбулатория 24\n",
      "Ангар 36\n",
      "Антикафе (тайм-кафе) 31\n",
      "Аптека 33\n",
      "Аренда 33\n",
      "Арка в доме (здании) 38\n",
      "Ателье 33\n",
      "Аттракционы 24\n",
      "Аэропорт 14\n",
      "База отдыха 12\n",
      "Балка 18\n",
      "Бак 22\n",
      "Бакен 36\n",
      "Банк 40\n",
      "Банкомат 29\n",
      "Баня 40\n",
      "Бар 22\n",
      "Бассейн 31\n",
      "Башня 36\n",
      "Берег 18\n",
      "Библиотека 25\n",
      "Билетная касса 20\n",
      "Больница 29\n",
      "Болото 0\n",
      "Бордель 31\n",
      "Брод 20\n",
      "Буй 0\n",
      "Букмекерская контора 8\n",
      "Булочная 14\n",
      "Буна 20\n",
      "Вейп-шоп 14\n",
      "Велодорожка 12\n",
      "(Кожно-)венерологический диспансер 20\n",
      "Вентиляционная шахта метро 6\n",
      "Вершина горы 11\n",
      "Ветеринарная клиника 23\n",
      "Ветроуказатель 10\n",
      "Ветряк (ветрогенератор и ветроэлектростанция) 12\n",
      "Виноградник 35\n",
      "Водонапорная башня 17\n",
      "Водоочистная, насосная станция 22\n",
      "Водопад 31\n",
      "Водохранилище 53\n",
      "Военкомат 13\n",
      "Военная зона 11\n",
      "Волнорез 29\n",
      "Ворота 17\n",
      "Вулкан 33\n",
      "Вход в здание или на территорию 32\n",
      "Въезд 36\n",
      "Выемка 17\n",
      "Вышка 18\n",
      "Газгольдер 25\n",
      "Газон 36\n",
      "Гаражно-строительный кооператив (ГСК, гаражи) 16\n",
      "Геодезические сооружения и ориентиры (в том числе реперы) 10\n",
      "Голубятня 13\n",
      "Гора 20\n",
      "Горнолыжный комплекс / курорт / склон (включая сноуборд) 6\n",
      "Горный хребет 21\n",
      "Госпиталь 13\n",
      "Гостевой дом 11\n",
      "Гостиница 27\n",
      "Градирня 29\n",
      "Грядки (огород) 19\n",
      "Дачи 60\n",
      "Дайвинг 46\n",
      "Деревня 31\n",
      "Дерево 33\n",
      "Детская игровая площадка 13\n",
      "Детский дом 24\n",
      "Детский сад 24\n",
      "Док 22\n",
      "ДОЛ, ДСОЛ 13\n",
      "Дом 22\n",
      "Дом инвалидов 21\n",
      "Дом престарелых 19\n",
      "Дом искусств 22\n",
      "Дом культуры, дворец культуры 11\n",
      "Дом отдыха 25\n",
      "Дорожка 31\n",
      "Дорожные знаки 30\n",
      "ДПС ГИБДД (стационарный пост) 11\n",
      "Дренаж 33\n",
      "Душ (например, на пляже) 27\n",
      "Дымовая труба 21\n",
      "Дыра в заборе 32\n",
      "Железнодорожные пути 8\n",
      "Железнодорожная станция 34\n",
      "Железнодорожный переезд 14\n",
      "Женская консультация 8\n",
      "Жилая зона 12\n",
      "Забор 36\n",
      "Заброшенный объект 25\n",
      "Завод 36\n",
      "ЗАГС (органы записи актов гражданского состояния) 18\n",
      "Заказник 57\n",
      "Залив 55\n",
      "Замок 36\n",
      "Заповедник 50\n",
      "Заросли 46\n",
      "Здание 100\n",
      "Зелёная изгородь 18\n",
      "Зоомагазин 38\n",
      "Зоопарк 31\n",
      "Игрушки (магазин игрушек) 13\n",
      "Ил 25\n",
      "Институт 14\n",
      "Интернет-кафе 21\n",
      "Интернет-провайдер, офис телекоммуникационной компании 13\n",
      "Информация 12\n",
      "Ипподром 14\n",
      "Источники воды 20\n",
      "Казино (стимулирующие лотереи, игровые интернет-клубы) 13\n",
      "Калитка 31\n",
      "Кальянная 27\n",
      "Кампус 17\n",
      "Канава 33\n",
      "Канал 36\n",
      "Канатная дорога 19\n",
      "Канцелярские товары (канцтовары) 21\n",
      "Карьер 33\n",
      "Касса по приёму платежей 20\n",
      "Каток (хоккейная коробка) 13\n",
      "Кафе 40\n",
      "Квест (квест-рум, эскейп-рум, \"Клаустрофобия\", квест в реальности и т.п.) 3\n",
      "Кемпинг, палаточный городок, место для установки палаток, туристическая стоянка 12\n",
      "Кинотеатр 27\n",
      "Киоск 18\n",
      "Кладбище 43\n",
      "Колледж 15\n",
      "Колодец 31\n",
      "Колонка 15\n",
      "Концертный зал 20\n",
      "Кондитерская 33\n",
      "Конный клуб, лошадиная ферма 18\n",
      "Конюшня, стойло 10\n",
      "Кораблекрушение 38\n",
      "Кормление животных 25\n",
      "Котельная 13\n",
      "Крематорий 12\n",
      "Крепость 14\n",
      "Кряж 0\n",
      "Культовое сооружение 23\n",
      "Купель (купальня) 9\n",
      "Курительная зона (зона для курения) 15\n",
      "Кухонные принадлежности 14\n",
      "Лаз, дыра в заборе 17\n",
      "Лежачий полицейский 8\n",
      "Ледник 50\n",
      "Лес 22\n",
      "Линия электропередачи (ЛЭП) 18\n",
      "Лог 0\n",
      "Ломбард 15\n",
      "Луг 0\n",
      "Лыжня 18\n",
      "Люк 0\n",
      "Магазин 31\n",
      "Маршрут 15\n",
      "Мастерская 25\n",
      "Маяк 20\n",
      "Медпункт 14\n",
      "Мельница 29\n",
      "Метеостанция 33\n",
      "Метрополитен 11\n",
      "Мечеть 17\n",
      "Милиция 15\n",
      "Молочная кухня, молоко-раздаточный пункт 17\n",
      "Монорельс 27\n",
      "Морг 0\n",
      "Мост 0\n",
      "Мотель 17\n",
      "Музей 36\n",
      "Мусор 0\n",
      "Мыс 0\n",
      "Мэрия 18\n",
      "Навес 36\n",
      "Налоговая 13\n",
      "Насыпь 17\n",
      "Нефтяная скважина 17\n",
      "Нефтяной куст 21\n",
      "НИИ, проектный институт 21\n",
      "Нотариус, нотариальная контора 11\n",
      "Ночной клуб 12\n",
      "Обмен валют 12\n",
      "Обзорная точка 20\n",
      "Общежитие 27\n",
      "Овраг 18\n",
      "Огород (грядки) 19\n",
      "Оградительный столб (тумба) 18\n",
      "Озеро 36\n",
      "Океанариум 38\n",
      "Оперативная полиграфия 7\n",
      "Опора 18\n",
      "Оптика (магазин) 9\n",
      "Освещение (уличное) 24\n",
      "Остов судна 24\n",
      "Остров 0\n",
      "Островок безопасности 7\n",
      "Осыпь камней 33\n",
      "Отель 18\n",
      "Офисная территория (торговая) 11\n",
      "Памятник, стела 38\n",
      "Пансионат 40\n",
      "Парикмахерская 30\n",
      "Парк 20\n",
      "Парк аттракционов 17\n",
      "Парковка 14\n",
      "Паром 18\n",
      "Пекарня 15\n",
      "Пешеходный переход 8\n",
      "Пещера 17\n",
      "Пивной сад 12\n",
      "Пиццерия 29\n",
      "Платёжный терминал 25\n",
      "Платный доступ 20\n",
      "Плотина 15\n",
      "Площадка 14\n",
      "Пляж 0\n",
      "Поворотный круг на железной дороге 10\n",
      "Погост 0\n",
      "Подкачка колёс 20\n",
      "Подъезд дома 33\n",
      "Подъёмный кран 30\n",
      "Пожарная станция 27\n",
      "Поле 20\n",
      "Поликлиника 24\n",
      "Полиция 15\n",
      "Полосы движения 29\n",
      "Помойка 15\n",
      "Посёлок городского типа 14\n",
      "Посольство 0\n",
      "Посуда (магазин) 27\n",
      "Похоронное бюро, бюро ритуальных услуг 9\n",
      "Почтамт 15\n",
      "Почтовый ящик 11\n",
      "Прачечная 27\n",
      "Придорожный сервис 17\n",
      "Причал 17\n",
      "Приют 18\n",
      "Прокуратура 12\n",
      "Промышленная зона 9\n",
      "Просека 15\n",
      "Противогололёдный материал 12\n",
      "Проход 17\n",
      "Пруд 20\n",
      "Публичный дом 11\n",
      "Пункт триангуляции (тригопункт) 16\n",
      "Пустошь 0\n",
      "Развалины (представляющие историческую ценность) 15\n",
      "Район (города) 20\n",
      "Раскопки 29\n",
      "Ратуша 17\n",
      "Редакция газеты 38\n",
      "Резервуар 13\n",
      "Река 20\n",
      "Религия 15\n",
      "Рельеф 17\n",
      "Ремонт 17\n",
      "Ресторан 29\n",
      "Риэлтор, агентство недвижимости 11\n",
      "Ров, траншея 33\n",
      "Роддом, родильный дом 15\n",
      "Ростовщик (микрокредитная организация) 18\n",
      "Ручей 18\n",
      "Рыбный магазин 20\n",
      "Рынок 18\n",
      "Сад 22\n",
      "Садоводческое товарищество 12\n",
      "Салон 36\n",
      "Санаторий 40\n",
      "Сарай, стайка 11\n",
      "Сауна 36\n",
      "Свалка 17\n",
      "Сельский клуб 11\n",
      "Синагога 14\n",
      "Скалодром 13\n",
      "Скамья, лавочка 10\n",
      "Скульптура 12\n",
      "Следственный комитет 8\n",
      "Смотровая площадка 8\n",
      "Солярий, студия загара 7\n",
      "Союзпечать/Роспечать, газетный киоск 10\n",
      "Спасательная служба 16\n",
      "Спортивный центр 18\n",
      "Сражение 57\n",
      "Стадион 31\n",
      "Страховая компания 25\n",
      "Стекольная мастерская 7\n",
      "Стена 18\n",
      "Степь 18\n",
      "Стриптиз-клуб 11\n",
      "Стройка 15\n",
      "Столовая 14\n",
      "Стоматологическая клиника 19\n",
      "Стоянка 15\n",
      "Студия 33\n",
      "Суд 22\n",
      "Супермаркет (магазин самообслуживания) 18\n",
      "Суши 20\n",
      "Табак 18\n",
      "Табличка 29\n",
      "Такси 36\n",
      "Тамбур 17\n",
      "Таможня, таможенный пункт 19\n",
      "Танк 40\n",
      "Театр 18\n",
      "Телефон 15\n",
      "Теплица 15\n",
      "Терминал 14\n",
      "Техникум 29\n",
      "Техосмотр 13\n",
      "Ткани (магазин) 29\n",
      "Торговый центр 10\n",
      "Торфоразработки 19\n",
      "Трава 18\n",
      "Трамвай 15\n",
      "Транспортная компания 22\n",
      "Трансформатор 21\n",
      "Тригопункт 12\n",
      "Троллейбус 12\n",
      "Тротуары 14\n",
      "Труба для ручья под дорогой 6\n",
      "Трубопровод 12\n",
      "Труба (дымовая) 10\n",
      "(Противо-)туберкулёзный диспансер 26\n",
      "Туалет 33\n",
      "Туннель 31\n",
      "Тупик 18\n",
      "Турбаза 15\n",
      "Туристическое агентство (турагентство) 9\n",
      "Турникет 43\n",
      "Тюрьма, следственный изолятор, СИЗО 10\n",
      "Универмаг 40\n",
      "Универсам 40\n",
      "Университет 35\n",
      "Управляющая компания ЖКХ 20\n",
      "Урна 20\n",
      "Урочище 31\n",
      "Услуги 17\n",
      "Утёс 0\n",
      "Училище 31\n",
      "Ферма, совхоз, колхоз 7\n",
      "Фитнес, спортивно-оздоровительный центр 18\n",
      "Флюгер 17\n",
      "Фонтан 33\n",
      "Фотограф 14\n",
      "Фотостудия (помещение, зачастую сдаваемое в аренду для съемок) 12\n",
      "Фотоцентр, фотомагазин 7\n",
      "Химчистка 13\n",
      "Хозяйственные товары 15\n",
      "Церковь 15\n",
      "Церковная лавка (иконная лавка) 5\n",
      "Цирк 20\n",
      "Частный сектор 30\n",
      "Частный детектив 27\n",
      "Шахта 18\n",
      "Шиномонтаж 12\n",
      "Школа 18\n",
      "Шлюз 20\n",
      "Шлагбаум 14\n",
      "Экстренный вызов 9\n",
      "Электроподстанция 35\n",
      "Электростанция 30\n",
      "Эстакада, ремонтная яма 21\n",
      "Юридический/адвокатский центр (офис, контора) 8\n",
      "\n",
      "Personal tools\n",
      " 0\n",
      "\n",
      "Namespaces\n",
      " 0\n",
      "\n",
      "Variants\n",
      " 0\n",
      "\n",
      "Views\n",
      " 0\n",
      "\n",
      "More\n",
      " 0\n",
      "\n",
      "Search\n",
      " 0\n",
      "\n",
      "site\n",
      " 0\n",
      "\n",
      "Tools\n",
      " 0\n",
      "100 Здание\n"
     ]
    }
   ],
   "source": [
    "from bs4 import BeautifulSoup\n",
    "import requests\n",
    "from fuzzywuzzy import fuzz\n",
    "from lxml.html.clean import unicode\n",
    "\n",
    "how_to_map = requests.get('https://wiki.openstreetmap.org/wiki/RU:%D0%9A%D0%B0%D0%BA_%D0%BE%D0%B1%D0%BE%D0%B7%D0%BD'\n",
    "                          '%D0%B0%D1%87%D0%B8%D1%82%D1%8C').text\n",
    "soup = BeautifulSoup(how_to_map, 'lxml')\n",
    "h3s = soup.find_all('h3')\n",
    "Str2 = \"здание\"\n",
    "matches = {}\n",
    "for i in h3s:\n",
    "    Str1 = i.text\n",
    "    Partial_Ratio = fuzz.ratio(Str1.lower(), Str2.lower())\n",
    "    print(i.text, Partial_Ratio)\n",
    "    matches[i.text] = Partial_Ratio\n",
    "\n",
    "x = sorted(matches, key=matches.get, reverse=True)\n",
    "for k in x[:1]:\n",
    "    print(matches[k], k)\n",
    "    if matches[k] < 10:\n",
    "        break\n"
   ]
  },
  {
   "cell_type": "code",
   "execution_count": 7,
   "metadata": {},
   "outputs": [
    {
     "data": {
      "text/plain": [
       "'\\n'"
      ]
     },
     "execution_count": 7,
     "metadata": {},
     "output_type": "execute_result"
    }
   ],
   "source": [
    "first_par = soup.findAll(h3)[0]\n",
    "Get the first paragraph element\n",
    "\n",
    "\n",
    "text_between = first_par.next_sibling\n",
    "print(text_between)"
   ]
  },
  {
   "cell_type": "code",
   "execution_count": 11,
   "metadata": {},
   "outputs": [
    {
     "data": {
      "text/plain": [
       "'Автобус'"
      ]
     },
     "execution_count": 11,
     "metadata": {},
     "output_type": "execute_result"
    }
   ],
   "source": [
    "first_par = soup.findAll('h3')[0]\n",
    "first_par.text"
   ]
  },
  {
   "cell_type": "code",
   "execution_count": 16,
   "metadata": {},
   "outputs": [
    {
     "data": {
      "text/plain": [
       "'\\n'"
      ]
     },
     "execution_count": 16,
     "metadata": {},
     "output_type": "execute_result"
    }
   ],
   "source": [
    "first_par.next_sibling\n"
   ]
  },
  {
   "cell_type": "code",
   "execution_count": 13,
   "metadata": {},
   "outputs": [
    {
     "data": {
      "text/plain": [
       "<h3><span id=\"Автозаправочная_станция_(АЗС)\"></span><span class=\"mw-headline\" id=\".D0.90.D0.B2.D1.82.D0.BE.D0.B7.D0.B0.D0.BF.D1.80.D0.B0.D0.B2.D0.BE.D1.87.D0.BD.D0.B0.D1.8F_.D1.81.D1.82.D0.B0.D0.BD.D1.86.D0.B8.D1.8F_.28.D0.90.D0.97.D0.A1.29\">Автозаправочная станция (АЗС)</span></h3>"
      ]
     },
     "execution_count": 13,
     "metadata": {},
     "output_type": "execute_result"
    }
   ],
   "source": [
    "soup.findAll('h3')[1]\n"
   ]
  },
  {
   "cell_type": "code",
   "execution_count": 33,
   "metadata": {},
   "outputs": [
    {
     "data": {
      "text/plain": [
       "''"
      ]
     },
     "execution_count": 33,
     "metadata": {},
     "output_type": "execute_result"
    }
   ],
   "source": [
    "soup.findAll('h3')[0].next_element.text"
   ]
  },
  {
   "cell_type": "code",
   "execution_count": 126,
   "metadata": {},
   "outputs": [
    {
     "name": "stdout",
     "output_type": "stream",
     "text": [
      "АвтобусАвтобус\n",
      "Автовокзал, автостанцияАвтовокзал, автостанция\n",
      "public_transportpublic_transport=stationstation + amenityamenity=bus_stationbus_station\n",
      "Точка остановкиТочка остановки\n",
      "public_transportpublic_transport=stop_positionstop_position + busbus=yes\n",
      "Укрытие («остановка»)Укрытие («остановка»)\n",
      "amenityamenity=sheltershelter + shelter_typeshelter_type=public_transportpublic_transport\n",
      "Место посадкиМесто посадки\n",
      "public_transportpublic_transport=platformplatform + highwayhighway=bus_stopbus_stop\n",
      "МаршрутМаршрут\n",
      "Отношение – маршрут (Relation:route)Отношение – маршрут (Relation:route)Отношение – маршрут (Relation:route)\n",
      "\n"
     ]
    },
    {
     "data": {
      "text/plain": [
       "'АвтобусАвтобус\\nАвтовокзал, автостанцияАвтовокзал, автостанция\\npublic_transportpublic_transport=stationstation + amenityamenity=bus_stationbus_station\\nТочка остановкиТочка остановки\\npublic_transportpublic_transport=stop_positionstop_position + busbus=yes\\nУкрытие («остановка»)Укрытие («остановка»)\\namenityamenity=sheltershelter + shelter_typeshelter_type=public_transportpublic_transport\\nМесто посадкиМесто посадки\\npublic_transportpublic_transport=platformplatform + highwayhighway=bus_stopbus_stop\\nМаршрутМаршрут\\nОтношение – маршрут (Relation:route)Отношение – маршрут (Relation:route)Отношение – маршрут (Relation:route)\\n'"
      ]
     },
     "execution_count": 126,
     "metadata": {},
     "output_type": "execute_result"
    }
   ],
   "source": [
    "firstBigTag = soup.find_all('h3')[0]\n",
    "nextATag = firstBigTag.find_next('h3')\n",
    "def loopUntil(text, firstElement):\n",
    "    if firstElement.string != None:\n",
    "        text += firstElement.string\n",
    "    if (firstElement.next == nextATag):             \n",
    "        return text\n",
    "    else:\n",
    "        #Using double next to skip the string nodes themselves\n",
    "        return loopUntil(text, firstElement.next)\n",
    "targetString = loopUntil('', firstBigTag)\n",
    "print(targetString)\n",
    "targetString"
   ]
  },
  {
   "cell_type": "code",
   "execution_count": 79,
   "metadata": {},
   "outputs": [],
   "source": [
    "firstBigTag = soup.find_all('h3')[0]\n"
   ]
  },
  {
   "cell_type": "code",
   "execution_count": 80,
   "metadata": {},
   "outputs": [
    {
     "data": {
      "text/plain": [
       "<h3><span id=\"Автозаправочная_станция_(АЗС)\"></span><span class=\"mw-headline\" id=\".D0.90.D0.B2.D1.82.D0.BE.D0.B7.D0.B0.D0.BF.D1.80.D0.B0.D0.B2.D0.BE.D1.87.D0.BD.D0.B0.D1.8F_.D1.81.D1.82.D0.B0.D0.BD.D1.86.D0.B8.D1.8F_.28.D0.90.D0.97.D0.A1.29\">Автозаправочная станция (АЗС)</span></h3>"
      ]
     },
     "execution_count": 80,
     "metadata": {},
     "output_type": "execute_result"
    }
   ],
   "source": [
    "firstBigTag.find_next('h3')\n"
   ]
  },
  {
   "cell_type": "code",
   "execution_count": 40,
   "metadata": {},
   "outputs": [
    {
     "ename": "NameError",
     "evalue": "name 'firstElement' is not defined",
     "output_type": "error",
     "traceback": [
      "\u001b[1;31m---------------------------------------------------------------------------\u001b[0m",
      "\u001b[1;31mNameError\u001b[0m                                 Traceback (most recent call last)",
      "\u001b[1;32m<ipython-input-40-eb1f0f22cf8a>\u001b[0m in \u001b[0;36m<module>\u001b[1;34m\u001b[0m\n\u001b[1;32m----> 1\u001b[1;33m \u001b[0mfirstElement\u001b[0m\u001b[1;33m.\u001b[0m\u001b[0mnext\u001b[0m\u001b[1;33m.\u001b[0m\u001b[0mnext\u001b[0m\u001b[1;33m\u001b[0m\u001b[1;33m\u001b[0m\u001b[0m\n\u001b[0m",
      "\u001b[1;31mNameError\u001b[0m: name 'firstElement' is not defined"
     ]
    }
   ],
   "source": [
    "firstElement.next.next"
   ]
  },
  {
   "cell_type": "code",
   "execution_count": 44,
   "metadata": {},
   "outputs": [
    {
     "data": {
      "text/plain": [
       "<h3><span id=\"Автобус\"></span><span class=\"mw-headline\" id=\".D0.90.D0.B2.D1.82.D0.BE.D0.B1.D1.83.D1.81\">Автобус</span></h3>"
      ]
     },
     "execution_count": 44,
     "metadata": {},
     "output_type": "execute_result"
    }
   ],
   "source": [
    "firstBigTag"
   ]
  },
  {
   "cell_type": "code",
   "execution_count": 85,
   "metadata": {},
   "outputs": [],
   "source": [
    "firstBigTag.string"
   ]
  },
  {
   "cell_type": "code",
   "execution_count": 48,
   "metadata": {},
   "outputs": [],
   "source": [
    "nextATag = firstBigTag.find_next('h3')"
   ]
  },
  {
   "cell_type": "code",
   "execution_count": 67,
   "metadata": {},
   "outputs": [
    {
     "data": {
      "text/plain": [
       "'\\n'"
      ]
     },
     "execution_count": 67,
     "metadata": {},
     "output_type": "execute_result"
    }
   ],
   "source": [
    "nextATag.next.next.next.next.string"
   ]
  },
  {
   "cell_type": "code",
   "execution_count": 59,
   "metadata": {},
   "outputs": [
    {
     "ename": "NameError",
     "evalue": "name 'firstElement' is not defined",
     "output_type": "error",
     "traceback": [
      "\u001b[1;31m---------------------------------------------------------------------------\u001b[0m",
      "\u001b[1;31mNameError\u001b[0m                                 Traceback (most recent call last)",
      "\u001b[1;32m<ipython-input-59-7fcb1daa1fb6>\u001b[0m in \u001b[0;36m<module>\u001b[1;34m\u001b[0m\n\u001b[1;32m----> 1\u001b[1;33m \u001b[0mfirstElement\u001b[0m\u001b[1;33m.\u001b[0m\u001b[0mstring\u001b[0m\u001b[1;33m\u001b[0m\u001b[1;33m\u001b[0m\u001b[0m\n\u001b[0m",
      "\u001b[1;31mNameError\u001b[0m: name 'firstElement' is not defined"
     ]
    }
   ],
   "source": [
    "firstElement.string"
   ]
  },
  {
   "cell_type": "code",
   "execution_count": 72,
   "metadata": {},
   "outputs": [
    {
     "data": {
      "text/plain": [
       "<h3><span id=\"Автобус\"></span><span class=\"mw-headline\" id=\".D0.90.D0.B2.D1.82.D0.BE.D0.B1.D1.83.D1.81\">Автобус</span></h3>"
      ]
     },
     "execution_count": 72,
     "metadata": {},
     "output_type": "execute_result"
    }
   ],
   "source": [
    "firstBigTag"
   ]
  },
  {
   "cell_type": "code",
   "execution_count": 86,
   "metadata": {},
   "outputs": [],
   "source": [
    "firstBigTag.string"
   ]
  },
  {
   "cell_type": "code",
   "execution_count": 87,
   "metadata": {},
   "outputs": [],
   "source": [
    "firstBigTag.next.string"
   ]
  },
  {
   "cell_type": "code",
   "execution_count": 91,
   "metadata": {},
   "outputs": [
    {
     "data": {
      "text/plain": [
       "'Автобус'"
      ]
     },
     "execution_count": 91,
     "metadata": {},
     "output_type": "execute_result"
    }
   ],
   "source": [
    "firstBigTag.next.next.string"
   ]
  },
  {
   "cell_type": "code",
   "execution_count": 99,
   "metadata": {},
   "outputs": [
    {
     "data": {
      "text/plain": [
       "'Автозаправочная станция (АЗС)'"
      ]
     },
     "execution_count": 99,
     "metadata": {},
     "output_type": "execute_result"
    }
   ],
   "source": [
    "nextATag.next.next.next.string"
   ]
  },
  {
   "cell_type": "code",
   "execution_count": 93,
   "metadata": {},
   "outputs": [
    {
     "data": {
      "text/plain": [
       "'\\n'"
      ]
     },
     "execution_count": 93,
     "metadata": {},
     "output_type": "execute_result"
    }
   ],
   "source": [
    "firstBigTag.next.next.next.next.string"
   ]
  },
  {
   "cell_type": "code",
   "execution_count": 106,
   "metadata": {},
   "outputs": [
    {
     "name": "stdout",
     "output_type": "stream",
     "text": [
      "Автовокзал, автостанция\n",
      "public_transport=station + amenity=bus_station\n",
      "Точка остановки\n",
      "public_transport=stop_position + bus=yes\n",
      "Укрытие («остановка»)\n",
      "amenity=shelter + shelter_type=public_transport\n",
      "Место посадки\n",
      "public_transport=platform + highway=bus_stop\n",
      "Маршрут\n",
      "Отношение – маршрут (Relation:route)\n"
     ]
    }
   ],
   "source": [
    "els = soup.select('h3:has(span#Автобус) ~ *:has(~ h3:has(span#Автозаправочная_станция_\\(АЗС\\)))')\n",
    "for el in els:\n",
    "    print(el.get_text())"
   ]
  },
  {
   "cell_type": "code",
   "execution_count": 107,
   "metadata": {},
   "outputs": [
    {
     "data": {
      "text/plain": [
       "387"
      ]
     },
     "execution_count": 107,
     "metadata": {},
     "output_type": "execute_result"
    }
   ],
   "source": [
    "k =0\n",
    "for i in h3s:\n",
    "    k +=1\n",
    "k"
   ]
  },
  {
   "cell_type": "code",
   "execution_count": 111,
   "metadata": {},
   "outputs": [
    {
     "data": {
      "text/plain": [
       "<function ResultSet.index(value, start=0, stop=9223372036854775807, /)>"
      ]
     },
     "execution_count": 111,
     "metadata": {},
     "output_type": "execute_result"
    }
   ],
   "source": [
    "soup.findAll('h3').index"
   ]
  },
  {
   "cell_type": "code",
   "execution_count": 129,
   "metadata": {},
   "outputs": [
    {
     "data": {
      "text/plain": [
       "<span id=\"Автозаправочная_станция_(АЗС)\"></span>"
      ]
     },
     "execution_count": 129,
     "metadata": {},
     "output_type": "execute_result"
    }
   ],
   "source": [
    "soup.findAll('h3')[1].next_element"
   ]
  },
  {
   "cell_type": "code",
   "execution_count": 110,
   "metadata": {},
   "outputs": [
    {
     "ename": "TypeError",
     "evalue": "attribute of type 'NoneType' is not callable",
     "output_type": "error",
     "traceback": [
      "\u001b[1;31m---------------------------------------------------------------------------\u001b[0m",
      "\u001b[1;31mTypeError\u001b[0m                                 Traceback (most recent call last)",
      "\u001b[1;32m<ipython-input-110-fc2bb09179d8>\u001b[0m in \u001b[0;36m<module>\u001b[1;34m\u001b[0m\n\u001b[1;32m----> 1\u001b[1;33m \u001b[0msoup\u001b[0m\u001b[1;33m.\u001b[0m\u001b[0mselect\u001b[0m\u001b[1;33m(\u001b[0m\u001b[0msoup\u001b[0m\u001b[1;33m.\u001b[0m\u001b[0mfindAll\u001b[0m\u001b[1;33m(\u001b[0m\u001b[1;34m'h3'\u001b[0m\u001b[1;33m)\u001b[0m\u001b[1;33m[\u001b[0m\u001b[1;36m0\u001b[0m\u001b[1;33m]\u001b[0m\u001b[1;33m,\u001b[0m\u001b[0msoup\u001b[0m\u001b[1;33m.\u001b[0m\u001b[0mfindAll\u001b[0m\u001b[1;33m(\u001b[0m\u001b[1;34m'h3'\u001b[0m\u001b[1;33m)\u001b[0m\u001b[1;33m[\u001b[0m\u001b[1;36m1\u001b[0m\u001b[1;33m]\u001b[0m\u001b[1;33m)\u001b[0m\u001b[1;33m\u001b[0m\u001b[1;33m\u001b[0m\u001b[0m\n\u001b[0m",
      "\u001b[1;32m~\\Anaconda3\\lib\\site-packages\\bs4\\element.py\u001b[0m in \u001b[0;36mselect\u001b[1;34m(self, selector, namespaces, limit, **kwargs)\u001b[0m\n\u001b[0;32m   1332\u001b[0m             )\n\u001b[0;32m   1333\u001b[0m \u001b[1;33m\u001b[0m\u001b[0m\n\u001b[1;32m-> 1334\u001b[1;33m         \u001b[1;32mreturn\u001b[0m \u001b[0msoupsieve\u001b[0m\u001b[1;33m.\u001b[0m\u001b[0mselect\u001b[0m\u001b[1;33m(\u001b[0m\u001b[0mselector\u001b[0m\u001b[1;33m,\u001b[0m \u001b[0mself\u001b[0m\u001b[1;33m,\u001b[0m \u001b[0mnamespaces\u001b[0m\u001b[1;33m,\u001b[0m \u001b[0mlimit\u001b[0m\u001b[1;33m,\u001b[0m \u001b[1;33m**\u001b[0m\u001b[0mkwargs\u001b[0m\u001b[1;33m)\u001b[0m\u001b[1;33m\u001b[0m\u001b[1;33m\u001b[0m\u001b[0m\n\u001b[0m\u001b[0;32m   1335\u001b[0m \u001b[1;33m\u001b[0m\u001b[0m\n\u001b[0;32m   1336\u001b[0m     \u001b[1;31m# Old names for backwards compatibility\u001b[0m\u001b[1;33m\u001b[0m\u001b[1;33m\u001b[0m\u001b[1;33m\u001b[0m\u001b[0m\n",
      "\u001b[1;32m~\\Anaconda3\\lib\\site-packages\\soupsieve\\__init__.py\u001b[0m in \u001b[0;36mselect\u001b[1;34m(select, tag, namespaces, limit, flags, **kwargs)\u001b[0m\n\u001b[0;32m    112\u001b[0m     \u001b[1;34m\"\"\"Select the specified tags.\"\"\"\u001b[0m\u001b[1;33m\u001b[0m\u001b[1;33m\u001b[0m\u001b[0m\n\u001b[0;32m    113\u001b[0m \u001b[1;33m\u001b[0m\u001b[0m\n\u001b[1;32m--> 114\u001b[1;33m     \u001b[1;32mreturn\u001b[0m \u001b[0mcompile\u001b[0m\u001b[1;33m(\u001b[0m\u001b[0mselect\u001b[0m\u001b[1;33m,\u001b[0m \u001b[0mnamespaces\u001b[0m\u001b[1;33m,\u001b[0m \u001b[0mflags\u001b[0m\u001b[1;33m,\u001b[0m \u001b[1;33m**\u001b[0m\u001b[0mkwargs\u001b[0m\u001b[1;33m)\u001b[0m\u001b[1;33m.\u001b[0m\u001b[0mselect\u001b[0m\u001b[1;33m(\u001b[0m\u001b[0mtag\u001b[0m\u001b[1;33m,\u001b[0m \u001b[0mlimit\u001b[0m\u001b[1;33m)\u001b[0m\u001b[1;33m\u001b[0m\u001b[1;33m\u001b[0m\u001b[0m\n\u001b[0m\u001b[0;32m    115\u001b[0m \u001b[1;33m\u001b[0m\u001b[0m\n\u001b[0;32m    116\u001b[0m \u001b[1;33m\u001b[0m\u001b[0m\n",
      "\u001b[1;32m~\\Anaconda3\\lib\\site-packages\\soupsieve\\__init__.py\u001b[0m in \u001b[0;36mcompile\u001b[1;34m(pattern, namespaces, flags, **kwargs)\u001b[0m\n\u001b[0;32m     46\u001b[0m \u001b[1;33m\u001b[0m\u001b[0m\n\u001b[0;32m     47\u001b[0m     \u001b[1;32mif\u001b[0m \u001b[0mnamespaces\u001b[0m \u001b[1;32mis\u001b[0m \u001b[1;32mnot\u001b[0m \u001b[1;32mNone\u001b[0m\u001b[1;33m:\u001b[0m\u001b[1;33m\u001b[0m\u001b[1;33m\u001b[0m\u001b[0m\n\u001b[1;32m---> 48\u001b[1;33m         \u001b[0mnamespaces\u001b[0m \u001b[1;33m=\u001b[0m \u001b[0mct\u001b[0m\u001b[1;33m.\u001b[0m\u001b[0mNamespaces\u001b[0m\u001b[1;33m(\u001b[0m\u001b[1;33m**\u001b[0m\u001b[0mnamespaces\u001b[0m\u001b[1;33m)\u001b[0m\u001b[1;33m\u001b[0m\u001b[1;33m\u001b[0m\u001b[0m\n\u001b[0m\u001b[0;32m     49\u001b[0m \u001b[1;33m\u001b[0m\u001b[0m\n\u001b[0;32m     50\u001b[0m     \u001b[0mcustom\u001b[0m \u001b[1;33m=\u001b[0m \u001b[0mkwargs\u001b[0m\u001b[1;33m.\u001b[0m\u001b[0mget\u001b[0m\u001b[1;33m(\u001b[0m\u001b[1;34m'custom'\u001b[0m\u001b[1;33m)\u001b[0m\u001b[1;33m\u001b[0m\u001b[1;33m\u001b[0m\u001b[0m\n",
      "\u001b[1;31mTypeError\u001b[0m: attribute of type 'NoneType' is not callable"
     ]
    }
   ],
   "source": [
    "soup.select(soup.findAll('h3')[0],soup.findAll('h3')[1])"
   ]
  },
  {
   "cell_type": "code",
   "execution_count": 135,
   "metadata": {},
   "outputs": [
    {
     "ename": "AttributeError",
     "evalue": "'NavigableString' object has no attribute 'get_text'",
     "output_type": "error",
     "traceback": [
      "\u001b[1;31m---------------------------------------------------------------------------\u001b[0m",
      "\u001b[1;31mAttributeError\u001b[0m                            Traceback (most recent call last)",
      "\u001b[1;32m<ipython-input-135-2ffc4e00016a>\u001b[0m in \u001b[0;36m<module>\u001b[1;34m\u001b[0m\n\u001b[0;32m      1\u001b[0m \u001b[1;32mfor\u001b[0m \u001b[0mi\u001b[0m \u001b[1;32min\u001b[0m \u001b[0mrange\u001b[0m\u001b[1;33m(\u001b[0m\u001b[1;36m10\u001b[0m\u001b[1;33m)\u001b[0m\u001b[1;33m:\u001b[0m\u001b[1;33m\u001b[0m\u001b[1;33m\u001b[0m\u001b[0m\n\u001b[0;32m      2\u001b[0m     \u001b[0mk\u001b[0m \u001b[1;33m=\u001b[0m \u001b[0msoup\u001b[0m\u001b[1;33m.\u001b[0m\u001b[0mfind_all\u001b[0m\u001b[1;33m(\u001b[0m\u001b[1;34m'h3'\u001b[0m\u001b[1;33m)\u001b[0m\u001b[1;33m[\u001b[0m\u001b[1;36m0\u001b[0m\u001b[1;33m]\u001b[0m\u001b[1;33m.\u001b[0m\u001b[0mnextSibling\u001b[0m\u001b[1;33m\u001b[0m\u001b[1;33m\u001b[0m\u001b[0m\n\u001b[1;32m----> 3\u001b[1;33m     \u001b[0mprint\u001b[0m\u001b[1;33m(\u001b[0m\u001b[0mk\u001b[0m\u001b[1;33m.\u001b[0m\u001b[0mget_text\u001b[0m\u001b[1;33m)\u001b[0m\u001b[1;33m\u001b[0m\u001b[1;33m\u001b[0m\u001b[0m\n\u001b[0m",
      "\u001b[1;32m~\\Anaconda3\\lib\\site-packages\\bs4\\element.py\u001b[0m in \u001b[0;36m__getattr__\u001b[1;34m(self, attr)\u001b[0m\n\u001b[0;32m    644\u001b[0m             raise AttributeError(\n\u001b[0;32m    645\u001b[0m                 \"'%s' object has no attribute '%s'\" % (\n\u001b[1;32m--> 646\u001b[1;33m                     self.__class__.__name__, attr))\n\u001b[0m\u001b[0;32m    647\u001b[0m \u001b[1;33m\u001b[0m\u001b[0m\n\u001b[0;32m    648\u001b[0m     \u001b[1;32mdef\u001b[0m \u001b[0moutput_ready\u001b[0m\u001b[1;33m(\u001b[0m\u001b[0mself\u001b[0m\u001b[1;33m,\u001b[0m \u001b[0mformatter\u001b[0m\u001b[1;33m=\u001b[0m\u001b[1;34m\"minimal\"\u001b[0m\u001b[1;33m)\u001b[0m\u001b[1;33m:\u001b[0m\u001b[1;33m\u001b[0m\u001b[1;33m\u001b[0m\u001b[0m\n",
      "\u001b[1;31mAttributeError\u001b[0m: 'NavigableString' object has no attribute 'get_text'"
     ]
    }
   ],
   "source": [
    "for i in range(10):\n",
    "    k = soup.find_all('h3')[0].nextSibling\n",
    "    print(k.get_text)"
   ]
  },
  {
   "cell_type": "code",
   "execution_count": 144,
   "metadata": {},
   "outputs": [
    {
     "name": "stdout",
     "output_type": "stream",
     "text": [
      "\n",
      "Для автомобилей на химическом топливе\n",
      "amenity=fuel\n",
      "АГЗС (пропан-бутан)\n",
      "+ fuel:lpg=yes\n",
      "АГНКС (природный газ, метан)\n",
      "+ fuel:cng=yes\n",
      "\n",
      "Для автомобилей на электрической тяге (зарядная станция)\n",
      "amenity=charging_station\n",
      "\n"
     ]
    }
   ],
   "source": [
    "from bs4 import NavigableString, Tag\n",
    "for header in soup.find_all('h3')[1:2]:\n",
    "    nextNode = header\n",
    "    while True:\n",
    "        nextNode = nextNode.nextSibling\n",
    "        if nextNode is None:\n",
    "            break\n",
    "        if isinstance(nextNode, NavigableString):\n",
    "            print (nextNode.strip())\n",
    "        if isinstance(nextNode, Tag):\n",
    "            if nextNode.name == \"h3\":\n",
    "                break\n",
    "            print (nextNode.get_text().strip())"
   ]
  },
  {
   "cell_type": "code",
   "execution_count": null,
   "metadata": {},
   "outputs": [],
   "source": []
  }
 ],
 "metadata": {
  "kernelspec": {
   "display_name": "Python 3",
   "language": "python",
   "name": "python3"
  },
  "language_info": {
   "codemirror_mode": {
    "name": "ipython",
    "version": 3
   },
   "file_extension": ".py",
   "mimetype": "text/x-python",
   "name": "python",
   "nbconvert_exporter": "python",
   "pygments_lexer": "ipython3",
   "version": "3.7.4"
  }
 },
 "nbformat": 4,
 "nbformat_minor": 2
}
